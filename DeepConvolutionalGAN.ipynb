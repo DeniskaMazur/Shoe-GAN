{
 "cells": [
  {
   "cell_type": "code",
   "execution_count": 1,
   "metadata": {},
   "outputs": [
    {
     "name": "stdout",
     "output_type": "stream",
     "text": [
      "env: THEANO_FLAGS=device=gpu2,floatX=float32, lib.cnmem=0.7\n"
     ]
    },
    {
     "name": "stderr",
     "output_type": "stream",
     "text": [
      "WARNING (theano.sandbox.cuda): The cuda backend is deprecated and will be removed in the next release (v0.10).  Please switch to the gpuarray backend. You can get more information about how to switch at this URL:\n",
      " https://github.com/Theano/Theano/wiki/Converting-to-the-new-gpu-back-end%28gpuarray%29\n",
      "\n",
      "Using gpu device 2: GeForce GTX 1080 (CNMeM is enabled with initial size: 70.0% of memory, cuDNN 5110)\n"
     ]
    }
   ],
   "source": [
    "%env THEANO_FLAGS=device=gpu2,floatX=float32, lib.cnmem=0.7\n",
    "\n",
    "import theano\n",
    "import theano.tensor as T\n",
    "\n",
    "import lasagne\n",
    "from lasagne.layers import *\n",
    "from lasagne.nonlinearities import *\n",
    "lref = LeakyRectify(0.2)\n",
    "\n",
    "import numpy as np\n",
    "\n",
    "from preprocessing import jpg_to_nparray\n",
    "\n",
    "import os\n",
    "\n",
    "import matplotlib.pyplot as plt\n",
    "%matplotlib inline\n",
    "\n",
    "from IPython.display import clear_output"
   ]
  },
  {
   "cell_type": "code",
   "execution_count": 2,
   "metadata": {
    "collapsed": true
   },
   "outputs": [],
   "source": [
    "inputNoiseShape = [None, 1, 100]\n",
    "inputNoise = T.tensor3(\"Input Noise\", \"float32\")\n",
    "inputNoiseLayer = InputLayer(inputNoiseShape, inputNoise)\n",
    "\n",
    "inputPicShape = [None, 3, 64, 64]\n",
    "inputPic = T.tensor4(\"Input Pic\", \"float32\")\n",
    "inputPicLayer = InputLayer(inputPicShape, inputPic)"
   ]
  },
  {
   "cell_type": "code",
   "execution_count": 3,
   "metadata": {
    "collapsed": true
   },
   "outputs": [],
   "source": [
    "gen = DenseLayer(inputNoiseLayer, 512 * 8 * 8)\n",
    "gen = ReshapeLayer(gen, [-1, 512, 8, 8])\n",
    "\n",
    "gen = Upscale2DLayer(gen, 2)\n",
    "gen = Deconv2DLayer(gen, 256, 5, nonlinearity=lref)\n",
    "\n",
    "gen = Upscale2DLayer(gen, 2)\n",
    "gen = Deconv2DLayer(gen, 128, 5, nonlinearity=lref)\n",
    "\n",
    "gen = Deconv2DLayer(gen, 64, 5, nonlinearity=lref)\n",
    "gen = Deconv2DLayer(gen, 32, 5, nonlinearity=lref)\n",
    "gen = Deconv2DLayer(gen, 16, 5, nonlinearity=lref)\n",
    "gen = Deconv2DLayer(gen, 8, 5, nonlinearity=lref)\n",
    "gen = Deconv2DLayer(gen, 3, 5, nonlinearity=None)\n",
    "\n",
    "GenOutput = get_output(gen)"
   ]
  },
  {
   "cell_type": "code",
   "execution_count": 4,
   "metadata": {},
   "outputs": [
    {
     "data": {
      "text/plain": [
       "(None, 3, 64, 64)"
      ]
     },
     "execution_count": 4,
     "metadata": {},
     "output_type": "execute_result"
    }
   ],
   "source": [
    "gen.output_shape"
   ]
  },
  {
   "cell_type": "code",
   "execution_count": 5,
   "metadata": {
    "collapsed": true
   },
   "outputs": [],
   "source": [
    "discr = Conv2DLayer(inputPicLayer, 128, 5)\n",
    "discr = Conv2DLayer(discr, 256, 5)\n",
    "discr = Conv2DLayer(discr, 512, 5)\n",
    "\n",
    "discr = DenseLayer(discr, 256)\n",
    "discr = DenseLayer(discr, 1, nonlinearity=sigmoid)\n",
    "\n",
    "Discr_Out_Legit = get_output(discr)\n",
    "Discr_Out_Fake = get_output(discr, {inputPicLayer : GenOutput})"
   ]
  },
  {
   "cell_type": "code",
   "execution_count": 6,
   "metadata": {
    "collapsed": true
   },
   "outputs": [],
   "source": [
    "G_loss = -(T.log(Discr_Out_Fake)).mean()\n",
    "D_loss = -(T.log(Discr_Out_Legit) + T.log(1 - Discr_Out_Fake)).mean()"
   ]
  },
  {
   "cell_type": "code",
   "execution_count": 7,
   "metadata": {
    "collapsed": true
   },
   "outputs": [],
   "source": [
    "G_params = get_all_params(gen, trainable=True)\n",
    "G_updates = lasagne.updates.adam(G_loss, G_params, 0.0002)\n",
    "G_train = theano.function([inputNoise], G_loss, updates=G_updates, allow_input_downcast=True)\n",
    "\n",
    "generate = theano.function([inputNoise], GenOutput, allow_input_downcast=True)"
   ]
  },
  {
   "cell_type": "code",
   "execution_count": 8,
   "metadata": {
    "collapsed": true
   },
   "outputs": [],
   "source": [
    "D_params = get_all_params(discr, trainable=True)\n",
    "D_updates = lasagne.updates.adam(D_loss, D_params, 0.0002)\n",
    "D_train = theano.function([inputNoise, inputPic], D_loss, updates=D_updates, allow_input_downcast=True)\n",
    "\n",
    "discriminate = theano.function([inputPic], Discr_Out_Legit, allow_input_downcast=True)"
   ]
  },
  {
   "cell_type": "code",
   "execution_count": 9,
   "metadata": {
    "collapsed": true
   },
   "outputs": [],
   "source": [
    "pics = jpg_to_nparray(\"pics/\", os.listdir(\"pics/\"), (64, 64))"
   ]
  },
  {
   "cell_type": "code",
   "execution_count": 10,
   "metadata": {
    "collapsed": true
   },
   "outputs": [],
   "source": [
    "def sample_noise(M):\n",
    "    ns = np.random.uniform(0, 2, size=M)\n",
    "    return np.float32(ns)"
   ]
  },
  {
   "cell_type": "code",
   "execution_count": null,
   "metadata": {},
   "outputs": [
    {
     "name": "stdout",
     "output_type": "stream",
     "text": [
      "1\n"
     ]
    }
   ],
   "source": [
    "n_epochs = 50\n",
    "batch_size = 64\n",
    "\n",
    "for epoch in range(n_epochs):\n",
    "    clear_output()\n",
    "    print(epoch)\n",
    "    \n",
    "    for i in range(0, len(pics) - batch_size, batch_size):\n",
    "        nz = [sample_noise([1, 100]) for _ in range(batch_size)]\n",
    "        ims = pics[i : i + batch_size]\n",
    "        \n",
    "        D_train(nz , ims)\n",
    "        \n",
    "        for _ in range(3):\n",
    "            G_train(nz)"
   ]
  },
  {
   "cell_type": "code",
   "execution_count": null,
   "metadata": {
    "scrolled": true
   },
   "outputs": [],
   "source": [
    "plt.imshow(generate(sample_noise([1, 1, 100]))[0].transpose(1, 2, 0))"
   ]
  }
 ],
 "metadata": {
  "kernelspec": {
   "display_name": "Python [conda env:py35]",
   "language": "python",
   "name": "conda-env-py35-py"
  },
  "language_info": {
   "codemirror_mode": {
    "name": "ipython",
    "version": 3
   },
   "file_extension": ".py",
   "mimetype": "text/x-python",
   "name": "python",
   "nbconvert_exporter": "python",
   "pygments_lexer": "ipython3",
   "version": "3.5.3"
  }
 },
 "nbformat": 4,
 "nbformat_minor": 2
}
