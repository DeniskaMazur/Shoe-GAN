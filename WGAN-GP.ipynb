{
 "cells": [
  {
   "cell_type": "code",
   "execution_count": 1,
   "metadata": {},
   "outputs": [
    {
     "name": "stdout",
     "output_type": "stream",
     "text": [
      "env: THEANO_FLAGS=device=gpu7,lib.cnmem=0.6\n",
      "Couldn't import dot_parser, loading of dot files will not be possible.\n"
     ]
    },
    {
     "name": "stderr",
     "output_type": "stream",
     "text": [
      "WARNING (theano.sandbox.cuda): The cuda backend is deprecated and will be removed in the next release (v0.10).  Please switch to the gpuarray backend. You can get more information about how to switch at this URL:\n",
      " https://github.com/Theano/Theano/wiki/Converting-to-the-new-gpu-back-end%28gpuarray%29\n",
      "\n",
      "Using gpu device 7: GeForce GTX 1080 (CNMeM is enabled with initial size: 60.0% of memory, cuDNN 5110)\n"
     ]
    }
   ],
   "source": [
    "generate_gumbel%env THEANO_FLAGS=device=gpu7,lib.cnmem=0.6\n",
    "\n",
    "import lasagne\n",
    "def builDiscriminator(input_shape, input_var=None):\n",
    "    inp = InputLayer(input_shape, input_var)\n",
    "    \n",
    "    net = batch_norm(Conv2DLayer(inp, 32, 5))\n",
    "    net = batch_norm(Conv2DLayer(net, 64, 5))\n",
    "    net = batch_norm(Conv2DLayer(net, 128, 5))\n",
    "    net = batch_norm(Conv2DLayer(net, 256, 5))\n",
    "    \n",
    "    net = DenseLayer(net, 1, nonlinearity=None)\n",
    "    \n",
    "    return inp, net\n",
    "import theano\n",
    "import theano.tensor as T\n",
    "from theano.tensor.shared_randomstreams import RandomStreams\n",
    "srng = RandomStreams(seed=234)\n",
    "\n",
    "import numpy as np\n",
    "\n",
    "import os\n",
    "from preprocessing import jpg_to_nparray\n",
    "\n",
    "from IPython.display import clear_output\n",
    "from collections import OrderedDict\n",
    "\n",
    "import matplotlib.pyplot as plt\n",
    "%matplotlib inline"
   ]
  },
  {
   "cell_type": "code",
   "execution_count": 2,
   "metadata": {
    "collapsed": true
   },
   "outputs": [],
   "source": [
    "from lasagne.layers import (InputLayer, Conv2DLayer, Pool2DLayer, DenseLayer, \n",
    "                            ReshapeLayer, Upscale2DLayer, Deconv2DLayer, batch_norm)\n",
    "from lasagne.layers import get_output, get_all_params\n",
    "from lasagne.nonlinearities import LeakyRectify, tanh\n",
    "\n",
    "lref = LeakyRectify(0.2)"
   ]
  },
  {
   "cell_type": "code",
   "execution_count": 3,
   "metadata": {
    "collapsed": true
   },
   "outputs": [],
   "source": [
    "def buildGenerator(input_shape, input_var=None):\n",
    "    net = InputLayer(input_shape, input_var)\n",
    "    \n",
    "    net = DenseLayer(net, 256 * 8 * 8, nonlinearity=tanh)\n",
    "    net = ReshapeLayer(net, [-1, 256, 8, 8])\n",
    "    \n",
    "    net = Upscale2DLayer(net, 2)\n",
    "    net = batch_norm(Deconv2DLayer(net, 256, 5, nonlinearity=lref))\n",
    "    \n",
    "    net = Upscale2DLayer(net, 2)\n",
    "    net = batch_norm(Deconv2DLayer(net, 128, 5, nonlinearity=lref))\n",
    "    \n",
    "    net = batch_norm(Deconv2DLayer(net, 64, 5, nonlinearity=lref))\n",
    "    net = batch_norm(Deconv2DLayer(net, 32, 5, nonlinearity=lref))   \n",
    "    net = batch_norm(Deconv2DLayer(net, 16, 5, nonlinearity=lref))    \n",
    "    net = batch_norm(Deconv2DLayer(net, 16, 5, nonlinearity=lref))    \n",
    "    net = batch_norm(Deconv2DLayer(net, 16, 3, nonlinearity=lref))    \n",
    "    net = Deconv2DLayer(net, 3, 3, nonlinearity=tanh)    \n",
    "    \n",
    "    return net"
   ]
  },
  {
   "cell_type": "code",
   "execution_count": 4,
   "metadata": {
    "collapsed": true
   },
   "outputs": [],
   "source": [
    "def buildDiscriminator(input_shape, input_var=None):\n",
    "    inp = InputLayer(input_shape, input_var)\n",
    "    \n",
    "    net = batch_norm(Conv2DLayer(inp, 16, 5))\n",
    "    net = batch_norm(Conv2DLayer(net, 32, 5))\n",
    "    net = batch_norm(Conv2DLayer(net, 64, 5))\n",
    "    net = batch_norm(Conv2DLayer(net, 128, 5))\n",
    "    \n",
    "    net = DenseLayer(net, 1, nonlinearity=None)\n",
    "    \n",
    "    return inp, net"
   ]
  },
  {
   "cell_type": "code",
   "execution_count": 5,
   "metadata": {
    "collapsed": true
   },
   "outputs": [],
   "source": [
    "#Hyperparams\n",
    "adam = {\"learning_rate\" : 1e-4, \"beta1\" : 0.5, \"beta2\" : 0.9}\n",
    "lambd = 10"
   ]
  },
  {
   "cell_type": "code",
   "execution_count": 6,
   "metadata": {
    "collapsed": true
   },
   "outputs": [],
   "source": [
    "inputPicShape = [None, 3, 64, 64]\n",
    "inputPic = T.tensor4(\"Input Pic\", \"float32\")\n",
    "\n",
    "inputNoiseShape = [None, 100]\n",
    "inputNoise = T.matrix(\"Input Noise\", \"float32\")\n",
    "\n",
    "generator = buildGenerator(inputNoiseShape, inputNoise)\n",
    "disc_inp, discriminator = buildDiscriminator(inputPicShape, inputPic)"
   ]
  },
  {
   "cell_type": "code",
   "execution_count": 7,
   "metadata": {
    "collapsed": true
   },
   "outputs": [],
   "source": [
    "epsilon = srng.uniform([1])\n",
    "\n",
    "generated_img = get_output(generator)\n",
    "x_hat = epsilon * inputPic + (epsilon - 1) * generated_img\n",
    "\n",
    "    \n",
    "scr_real = get_output(discriminator, inputs=inputPic)\n",
    "scr_fake = get_output(discriminator, generated_img)\n",
    "scr_x_hat = get_output(discriminator, x_hat).mean()"
   ]
  },
  {
   "cell_type": "code",
   "execution_count": 8,
   "metadata": {
    "collapsed": true
   },
   "outputs": [],
   "source": [
    "x_hat_grad = T.grad(scr_x_hat, x_hat)[0]\n",
    "    \n",
    "wgan_loss = (scr_real.mean() - scr_fake.mean())\n",
    "\n",
    "gradient_loss = ((T.sqrt(T.sum(x_hat_grad**2)) - 0.01)**2).mean()\n",
    "d_loss = -wgan_loss + lambd * gradient_loss\n",
    "\n",
    "d_params = get_all_params(discriminator, trainable=True)\n",
    "\n",
    "d_updates = lasagne.updates.adam(d_loss, d_params, **adam)\n",
    "\n",
    "d_train = theano.function([inputNoise, inputPic], d_loss, updates=d_updates, allow_input_downcast=True)"
   ]
  },
  {
   "cell_type": "code",
   "execution_count": 9,
   "metadata": {
    "collapsed": true
   },
   "outputs": [],
   "source": [
    "g_loss = -(scr_fake).mean()\n",
    "g_params = get_all_params(generator, trainable=True)\n",
    "g_updates = lasagne.updates.adam(g_loss, g_params, **adam)\n",
    "g_train = theano.function([inputNoise], g_loss, updates=g_updates, allow_input_downcast=True)\n",
    "generate = theano.function([inputNoise], generated_img, allow_input_downcast=True)"
   ]
  },
  {
   "cell_type": "code",
   "execution_count": 10,
   "metadata": {},
   "outputs": [
    {
     "data": {
      "text/plain": [
       "\"def sample_probas(bsize):\\n    plt.hist(discriminator.predict(sample_data_batch(bsize)).ravel(),label='D(x)')\\n    plt.hist(discriminator.predict(generator.sample(sample_noise_batch(bsize))),label='D(G(z))', alpha=0.5)\\n    plt.legend(loc='best')\\n    #plt.xlim(0,1)\\n    plt.show()\""
      ]
     },
     "execution_count": 10,
     "metadata": {},
     "output_type": "execute_result"
    }
   ],
   "source": [
    "pics = jpg_to_nparray(\"lamoda/\", os.listdir(\"lamoda/\"), [64, 64])\n",
    "\n",
    "def sample_noise(n, size):\n",
    "    return np.random.normal(0, 10, [n, size])\n",
    "\n",
    "def sample_pics(bsize):\n",
    "    idxs = np.random.choice(np.arange(pics.shape[0]), size=bsize)\n",
    "    return pics[idxs].reshape(-1, 3, 64, 64)\n",
    "\n",
    "'''def sample_probas(bsize):\n",
    "    plt.hist(discriminator.predict(sample_data_batch(bsize)).ravel(),label='D(x)')\n",
    "    plt.hist(discriminator.predict(generator.sample(sample_noise_batch(bsize))),label='D(G(z))', alpha=0.5)\n",
    "    plt.legend(loc='best')\n",
    "    #plt.xlim(0,1)\n",
    "    plt.show()'''"
   ]
  },
  {
   "cell_type": "code",
   "execution_count": null,
   "metadata": {
    "scrolled": true
   },
   "outputs": [
    {
     "name": "stdout",
     "output_type": "stream",
     "text": [
      "960\n"
     ]
    },
    {
     "data": {
      "image/png": "[encoded data removed]",
      "text/plain": [
       "<matplotlib.figure.Figure at 0x7f3ff5178b38>"
      ]
     },
     "metadata": {},
     "output_type": "display_data"
    }
   ],
   "source": [
    "n_epochs = 5000\n",
    "display_ep = 10\n",
    "\n",
    "batch_size = 64\n",
    "n_critic = 5\n",
    "\n",
    "for ep in range(n_epochs):\n",
    "    for i in range(n_critic):\n",
    "        d_train(sample_noise(batch_size, 100), sample_pics(batch_size))\n",
    "        \n",
    "    g_train(sample_noise(batch_size, 100))\n",
    "    \n",
    "    if ep % display_ep == 0:\n",
    "        clear_output()\n",
    "        print(ep)\n",
    "        pic = generate(sample_noise(1, 100))\n",
    "        plt.imshow(pic[0].transpose(1, 2, 0))\n",
    "        plt.colorbar()\n",
    "        plt.show()"
   ]
  },
  {
   "cell_type": "code",
   "execution_count": 531,
   "metadata": {},
   "outputs": [
    {
     "data": {
      "text/plain": [
       "<matplotlib.image.AxesImage at 0x7f3ff4b57d68>"
      ]
     },
     "execution_count": 531,
     "metadata": {},
     "output_type": "execute_result"
    },
    {
     "data": {
      "image/png": "[encoded data removed]",
      "text/plain": [
       "<matplotlib.figure.Figure at 0x7f3ff4f39828>"
      ]
     },
     "metadata": {},
     "output_type": "display_data"
    }
   ],
   "source": [
    "pic = generate(sample_noise(1, 100))\n",
    "plt.imshow((pic[0].transpose(1, 2, 0)+1)/2)"
   ]
  },
  {
   "cell_type": "code",
   "execution_count": 349,
   "metadata": {},
   "outputs": [
    {
     "data": {
      "text/plain": [
       "(array([  800.,  2391.,   906.,   435.,   384.,   145.,   197.,   164.,\n",
       "          220.,  6646.]),\n",
       " array([ 0. ,  0.1,  0.2,  0.3,  0.4,  0.5,  0.6,  0.7,  0.8,  0.9,  1. ]),\n",
       " <a list of 10 Patch objects>)"
      ]
     },
     "execution_count": 349,
     "metadata": {},
     "output_type": "execute_result"
    },
    {
     "data": {
      "image/png": "[encoded data removed]",
      "text/plain": [
       "<matplotlib.figure.Figure at 0x7f4004cb03c8>"
      ]
     },
     "metadata": {},
     "output_type": "display_data"
    }
   ],
   "source": [
    "plt.hist(pics[0].transpose(1, 2, 0).ravel())"
   ]
  },
  {
   "cell_type": "code",
   "execution_count": 350,
   "metadata": {},
   "outputs": [
    {
     "data": {
      "text/plain": [
       "(array([  915.,  1056.,   808.,   512.,   382.,   377.,   277.,   243.,\n",
       "          604.,  7114.]),\n",
       " array([ -9.99904871e-01,  -7.99940169e-01,  -5.99975467e-01,\n",
       "         -4.00010765e-01,  -2.00046062e-01,  -8.13603401e-05,\n",
       "          1.99883342e-01,   3.99848044e-01,   5.99812746e-01,\n",
       "          7.99777448e-01,   9.99742150e-01]),\n",
       " <a list of 10 Patch objects>)"
      ]
     },
     "execution_count": 350,
     "metadata": {},
     "output_type": "execute_result"
    },
    {
     "data": {
      "image/png": "[encoded data removed]",
      "text/plain": [
       "<matplotlib.figure.Figure at 0x7f3ffe2e1d68>"
      ]
     },
     "metadata": {},
     "output_type": "display_data"
    }
   ],
   "source": [
    "plt.hist(pic.ravel())"
   ]
  },
  {
   "cell_type": "code",
   "execution_count": null,
   "metadata": {
    "collapsed": true
   },
   "outputs": [],
   "source": [
    "import pickle \n",
    "\n",
    "with open(\"wgan_weights.pcl\", \"wb\") as file:\n",
    "    pickle.dump(lasagne.layers.get_all_param_values(generator), file)"
   ]
  }
 ],
 "metadata": {
  "kernelspec": {
   "display_name": "Python [conda env:py35]",
   "language": "python",
   "name": "conda-env-py35-py"
  },
  "language_info": {
   "codemirror_mode": {
    "name": "ipython",
    "version": 3
   },
   "file_extension": ".py",
   "mimetype": "text/x-python",
   "name": "python",
   "nbconvert_exporter": "python",
   "pygments_lexer": "ipython3",
   "version": "3.5.3"
  }
 },
 "nbformat": 4,
 "nbformat_minor": 2
}
